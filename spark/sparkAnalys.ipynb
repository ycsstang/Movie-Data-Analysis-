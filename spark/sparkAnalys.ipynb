{
 "cells": [
  {
   "cell_type": "code",
   "id": "initial_id",
   "metadata": {
    "collapsed": true,
    "ExecuteTime": {
     "end_time": "2025-04-20T12:19:09.389358Z",
     "start_time": "2025-04-20T12:19:08.754090Z"
    }
   },
   "source": [
    "from pyspark.sql import SparkSession\n",
    "from pyspark.sql.functions import col, udf, monotonically_increasing_id\n",
    "from pyspark.sql.types import IntegerType, StringType, StructType, StructField, FloatType\n",
    "from pyspark.sql.functions import count,min,mean,col,sum,when,max,min,avg,explode,split,row_number,year,month , to_date,trim\n",
    "from pyspark.sql.window import Window\n"
   ],
   "outputs": [],
   "execution_count": 1
  },
  {
   "metadata": {
    "ExecuteTime": {
     "end_time": "2025-04-20T12:19:10.474295Z",
     "start_time": "2025-04-20T12:19:10.466916Z"
    }
   },
   "cell_type": "code",
   "source": [
    "def create_spark_session():\n",
    "    \"\"\"\n",
    "    Create a Spark session.\n",
    "    \"\"\"\n",
    "    spark = SparkSession.builder \\\n",
    "        .appName(\"Movies\") \\\n",
    "        .master(\"local[*]\") \\\n",
    "        .config('spark.sql.shuffle.partitions', 2) \\\n",
    "        .config('spark.sql.warehouse.dir', 'hdfs://node1:8020/user/hive/warehouse') \\\n",
    "        .config('hive.metastore.uris', 'thrift://node1:9083') \\\n",
    "        .config(\"spark.jars\", \"/usr/share/java/mysql-connector-java.jar\") \\\n",
    "        .enableHiveSupport() \\\n",
    "        .getOrCreate()\n",
    "\n",
    "    return spark"
   ],
   "id": "3656bb11934303aa",
   "outputs": [],
   "execution_count": 2
  },
  {
   "metadata": {
    "ExecuteTime": {
     "end_time": "2025-04-20T12:19:11.539545Z",
     "start_time": "2025-04-20T12:19:11.532047Z"
    }
   },
   "cell_type": "code",
   "source": [
    "def saveTable(result,tableName):\n",
    "    print(f'Saving {tableName}')\n",
    "    result.write.mode(\"overwrite\"). \\\n",
    "        format(\"jdbc\"). \\\n",
    "        option(\"url\", \"jdbc:mysql://node1:3306/movies\"). \\\n",
    "        option(\"dbtable\", f\"{tableName}\"). \\\n",
    "        option(\"user\", \"root\"). \\\n",
    "        option(\"password\", \"sakura0113\"). \\\n",
    "        option(\"driver\", \"com.mysql.cj.jdbc.Driver\"). \\\n",
    "        option(\"encoding\", \"UTF-8\"). \\\n",
    "        save()\n",
    "\n",
    "    result.write.mode(\"overwrite\"). \\\n",
    "        saveAsTable(f\"{tableName}\", format=\"parquet\", )\n",
    "    spark.sql(f\"select * from {tableName}\").show()"
   ],
   "id": "c8c5ff922a5224b6",
   "outputs": [],
   "execution_count": 3
  },
  {
   "metadata": {
    "ExecuteTime": {
     "end_time": "2025-04-20T12:19:32.957952Z",
     "start_time": "2025-04-20T12:19:13.335244Z"
    }
   },
   "cell_type": "code",
   "source": [
    "#创建session\n",
    "spark = create_spark_session()\n",
    "\n",
    "#读取电影文件\n",
    "catMovieData = spark.read.table('movieData')\n"
   ],
   "id": "c56c11eb28686e77",
   "outputs": [
    {
     "name": "stderr",
     "output_type": "stream",
     "text": [
      "Warning: Ignoring non-Spark config property: hive.metastore.uris\n",
      "25/04/20 20:19:18 WARN NativeCodeLoader: Unable to load native-hadoop library for your platform... using builtin-java classes where applicable\n",
      "Setting default log level to \"WARN\".\n",
      "To adjust logging level use sc.setLogLevel(newLevel). For SparkR, use setLogLevel(newLevel).\n",
      "25/04/20 20:19:21 WARN Utils: Service 'SparkUI' could not bind on port 4040. Attempting port 4041.\n"
     ]
    }
   ],
   "execution_count": 4
  },
  {
   "metadata": {
    "ExecuteTime": {
     "end_time": "2025-04-20T03:39:12.367579Z",
     "start_time": "2025-04-20T03:38:50.644998Z"
    }
   },
   "cell_type": "code",
   "source": [
    "explode_df = catMovieData.withColumn('movie_tag',explode(split(col('movie_tag'),'-')))\n",
    "result1 = explode_df.groupby('movie_tag').agg(count('movie_tag').alias('tag_count'))\n",
    "saveTable(result1,'movieTagCount')"
   ],
   "id": "c68beabecbffe753",
   "outputs": [
    {
     "name": "stdout",
     "output_type": "stream",
     "text": [
      "Saving movieTagCount\n"
     ]
    },
    {
     "name": "stderr",
     "output_type": "stream",
     "text": [
      "25/04/20 11:39:10 WARN SessionState: METASTORE_FILTER_HOOK will be ignored, since hive.security.authorization.manager is set to instance of HiveAuthorizerFactory.\n"
     ]
    },
    {
     "name": "stdout",
     "output_type": "stream",
     "text": [
      "+---------+---------+\n",
      "|movie_tag|tag_count|\n",
      "+---------+---------+\n",
      "|     音乐|       66|\n",
      "|     剧情|      808|\n",
      "|     动画|      382|\n",
      "|     神话|        4|\n",
      "|     动作|      523|\n",
      "|     爱情|      271|\n",
      "|     奇幻|      247|\n",
      "|     犯罪|      194|\n",
      "|     恐怖|      101|\n",
      "|     戏曲|        7|\n",
      "|     古装|       21|\n",
      "|     儿童|       10|\n",
      "|     热血|        2|\n",
      "| 黑色电影|        1|\n",
      "|     农村|        4|\n",
      "|     西部|        3|\n",
      "|     军事|        1|\n",
      "|     搞笑|        2|\n",
      "| 舞台艺术|        2|\n",
      "|     纪录|        1|\n",
      "+---------+---------+\n",
      "only showing top 20 rows\n",
      "\n"
     ]
    }
   ],
   "execution_count": 5
  },
  {
   "metadata": {
    "ExecuteTime": {
     "end_time": "2025-04-20T03:40:38.061394Z",
     "start_time": "2025-04-20T03:40:32.194492Z"
    }
   },
   "cell_type": "code",
   "source": [
    "\"\"\"\n",
    "Top10票房统计\n",
    "\"\"\"\n",
    "# 如果列中有非数字（如 \"Unknown\" 或空值），可以先过滤：\n",
    "df_clean = catMovieData.filter(\n",
    "    col(\"movie_all_ticket\").rlike(\"^\\\\d+$\"),\n",
    ")\n",
    "df_numeric = df_clean.withColumn(\n",
    "    \"movie_all_ticket_num\",\n",
    "    col(\"movie_all_ticket\").cast(\"integer\")\n",
    ")\n",
    "\n",
    "sort_df = df_numeric.orderBy(col(\"movie_all_ticket_num\").desc())\n",
    "sort_df.show()\n",
    "result2 = sort_df.limit(10)\n",
    "saveTable(result2,\"ticketTopMovie\")\n"
   ],
   "id": "6fe82069b96de1d9",
   "outputs": [
    {
     "name": "stderr",
     "output_type": "stream",
     "text": [
      "                                                                                \r"
     ]
    },
    {
     "name": "stdout",
     "output_type": "stream",
     "text": [
      "+-------+---------------------+-------------------+-------------+------------+-------------+----------+-------------------------------------+--------------+---------------------------------+----------+---------------------+----------------+--------------------+\n",
      "|movieId|           movie_name|          movie_tag|movie_country|movie_length|movie_release|movie_rate|                        movie_summary|movie_director|                      movie_actor|movie_rank|movie_firtweek_ticket|movie_all_ticket|movie_all_ticket_num|\n",
      "+-------+---------------------+-------------------+-------------+------------+-------------+----------+-------------------------------------+--------------+---------------------------------+----------+---------------------+----------------+--------------------+\n",
      "|     25|       哪吒之魔童闹海|     喜剧-剧情-动画|    中国大陆 |         144|   2025-01-29|        98|天劫之后，哪吒、敖丙的灵魂虽保住了...|          饺子|        吕艳婷-瀚墨-囧森瑟夫-绿绮|         1|               313135|         1427246|             1427246|\n",
      "|    124|               长津湖|     剧情-历史-战争|    中国大陆 |         176|   2021-09-30|        95|    1950年，中国人民志愿军部队与美...|        陈凯歌|             吴京-易烊千玺-段奕宏|   Unknown|               152756|          577534|              577534|\n",
      "|    297|                战狼2|          动作-战争|    中国大陆 |         123|   2017-07-27|        97| 被开除军籍的冷锋（吴京 饰演）本是...|          吴京|     吴京-弗兰克·格里罗-吴刚-张翰|   Unknown|                99680|          569454|              569454|\n",
      "|    234|         你好，李焕英|               喜剧|    中国大陆 |         128|   2021-02-12|        95|    2001年的某一天，刚刚考上大学的...|          贾玲|            贾玲-张小斐-沈腾-陈赫|   Unknown|               104971|          541320|              541320|\n",
      "|     76|       哪吒之魔童降世|               动画|    中国大陆 |         110|   2019-07-26|        96| 天地灵气孕育出一颗能量巨大的 混元...|          饺子|        吕艳婷-囧森瑟夫-瀚墨-陈浩|   Unknown|                66507|          503570|              503570|\n",
      "|    167|             流浪地球|     科幻-冒险-灾难|    中国大陆 |         125|   2019-02-05|        92| 近年来， 科学家们发现太阳急速衰老...|          郭帆|        吴京-屈楚萧-李光洁-吴孟达|   Unknown|               203168|          468739|              468739|\n",
      "|    130|               满江红|     悬疑-喜剧-剧情|    中国大陆 |         159|   2023-01-22|        94|张艺谋最新高口碑悬疑喜剧感动热映中...|        张艺谋|        沈腾-易烊千玺-张译-雷佳音|   Unknown|                40540|          454435|              454435|\n",
      "|     61|          唐人街探案3|          喜剧-悬疑|    中国大陆 |         136|   2021-02-12|        88|继曼谷、纽约之后，东京再出大案。唐...|        陈思诚|   王宝强-刘昊然-妻夫木聪-托尼·贾|   Unknown|               257934|          452356|              452356|\n",
      "|    171|复仇者联盟4：终局之战|动作-科幻-奇幻-冒险|        美国 |         181|   2019-04-24|        91| 来自泰坦星的 灭霸为了解决宇宙资源...|       乔·罗素|小罗伯特·唐尼-克里斯·埃文斯-马...|   Unknown|               223284|          425015|              425015|\n",
      "|    184|       长津湖之水门桥|     剧情-历史-战争|    中国大陆 |         149|   2022-02-01|        96|以抗美援朝战争第二次战役中的长津湖...|          徐克|        吴京-易烊千玺-朱亚文-李晨|   Unknown|               253385|          406745|              406745|\n",
      "|    115|            流浪地球2|     科幻-冒险-灾难|    中国大陆 |         173|   2023-01-22|        93|        2044年至2058年，科学家们发...|          郭帆|          吴京-刘德华-李雪健-沙溢|   Unknown|                47963|          404375|              404375|\n",
      "|    114|             孤注一掷|          犯罪-剧情|    中国大陆 |         130|   2023-08-08|        91|程序员潘生（张艺兴饰）、模特安娜（...|          申奥|          张艺兴-金晨-咏梅-王传君|   Unknown|               136959|          384984|              384984|\n",
      "|    211|             红海行动|          剧情-动作|    中国大陆 |         138|   2018-02-16|        94|索马里海域外，中国商船遭遇劫持，部...|        林超贤|            张译-黄景瑜-海清-杜江|   Unknown|                46500|          365228|              365228|\n",
      "|    181|             消失的她|     悬疑-犯罪-剧情|    中国大陆 |         122|   2023-06-22|        92|何非的妻子李木子在结婚周年旅行中离...|          崔睿|               朱一龙-倪妮-文咏珊|   Unknown|                69894|          352387|              352387|\n",
      "|     11|             唐探1900|     喜剧-动作-悬疑|    中国大陆 |         136|   2025-01-29|        95|十年情怀真诚打造，唐探宇宙口碑佳作...|        陈思诚|             王宝强-刘昊然-周润发|         2|               182477|          342742|              342742|\n",
      "|    160|             热辣滚烫|          喜剧-剧情|    中国大陆 |         129|   2024-02-10|        92| 乐莹（贾玲 饰）宅家多年，无所事事...|          贾玲|          贾玲-雷佳音-张小斐-杨紫|   Unknown|                78911|          341720|              341720|\n",
      "|    111|          唐人街探案2|     喜剧-动作-悬疑|    中国大陆 |         120|   2018-02-16|        90|     秦风 （ 刘昊然 饰）接到 唐仁 ...|        陈思诚|        王宝强-刘昊然-肖央-刘承羽|   Unknown|                99048|          339777|              339777|\n",
      "|    190|               美人鱼|     喜剧-爱情-科幻|    中国大陆 |          93|   2016-02-08|        90|   富豪刘轩 （ 邓超 饰）的地产计划...|        周星驰|          邓超-张雨绮-罗志祥-林允|   Unknown|               181992|          339120|              339120|\n",
      "|    185|            飞驰人生2|          喜剧-剧情|    中国大陆 |         121|   2024-02-10|        95|超欢乐！真刺激！好感动！沈腾领衔喜...|          韩寒|          沈腾-范丞丞-尹正-张本煜|   Unknown|                74730|          336084|              336084|\n",
      "|     71|               抓娃娃|          喜剧-剧情|    中国大陆 |         133|   2024-07-16|        94|沈腾马丽爆改偷感夫妇，超绝反差贴脸...|          闫非|                 沈腾-马丽-史彭元|   Unknown|               120143|          332752|              332752|\n",
      "+-------+---------------------+-------------------+-------------+------------+-------------+----------+-------------------------------------+--------------+---------------------------------+----------+---------------------+----------------+--------------------+\n",
      "only showing top 20 rows\n",
      "\n",
      "Saving ticketTopMovie\n"
     ]
    },
    {
     "name": "stderr",
     "output_type": "stream",
     "text": [
      "25/04/20 11:40:34 WARN SparkStringUtils: Truncated the string representation of a plan since it was too large. This behavior can be adjusted by setting 'spark.sql.debug.maxToStringFields'.\n",
      "                                                                                \r"
     ]
    },
    {
     "name": "stdout",
     "output_type": "stream",
     "text": [
      "+-------+---------------------+-------------------+-------------+------------+-------------+----------+-------------------------------------+--------------+---------------------------------+----------+---------------------+----------------+--------------------+\n",
      "|movieId|           movie_name|          movie_tag|movie_country|movie_length|movie_release|movie_rate|                        movie_summary|movie_director|                      movie_actor|movie_rank|movie_firtweek_ticket|movie_all_ticket|movie_all_ticket_num|\n",
      "+-------+---------------------+-------------------+-------------+------------+-------------+----------+-------------------------------------+--------------+---------------------------------+----------+---------------------+----------------+--------------------+\n",
      "|     25|       哪吒之魔童闹海|     喜剧-剧情-动画|    中国大陆 |         144|   2025-01-29|        98|天劫之后，哪吒、敖丙的灵魂虽保住了...|          饺子|        吕艳婷-瀚墨-囧森瑟夫-绿绮|         1|               313135|         1427246|             1427246|\n",
      "|    124|               长津湖|     剧情-历史-战争|    中国大陆 |         176|   2021-09-30|        95|    1950年，中国人民志愿军部队与美...|        陈凯歌|             吴京-易烊千玺-段奕宏|   Unknown|               152756|          577534|              577534|\n",
      "|    297|                战狼2|          动作-战争|    中国大陆 |         123|   2017-07-27|        97| 被开除军籍的冷锋（吴京 饰演）本是...|          吴京|     吴京-弗兰克·格里罗-吴刚-张翰|   Unknown|                99680|          569454|              569454|\n",
      "|    234|         你好，李焕英|               喜剧|    中国大陆 |         128|   2021-02-12|        95|    2001年的某一天，刚刚考上大学的...|          贾玲|            贾玲-张小斐-沈腾-陈赫|   Unknown|               104971|          541320|              541320|\n",
      "|     76|       哪吒之魔童降世|               动画|    中国大陆 |         110|   2019-07-26|        96| 天地灵气孕育出一颗能量巨大的 混元...|          饺子|        吕艳婷-囧森瑟夫-瀚墨-陈浩|   Unknown|                66507|          503570|              503570|\n",
      "|    167|             流浪地球|     科幻-冒险-灾难|    中国大陆 |         125|   2019-02-05|        92| 近年来， 科学家们发现太阳急速衰老...|          郭帆|        吴京-屈楚萧-李光洁-吴孟达|   Unknown|               203168|          468739|              468739|\n",
      "|    130|               满江红|     悬疑-喜剧-剧情|    中国大陆 |         159|   2023-01-22|        94|张艺谋最新高口碑悬疑喜剧感动热映中...|        张艺谋|        沈腾-易烊千玺-张译-雷佳音|   Unknown|                40540|          454435|              454435|\n",
      "|     61|          唐人街探案3|          喜剧-悬疑|    中国大陆 |         136|   2021-02-12|        88|继曼谷、纽约之后，东京再出大案。唐...|        陈思诚|   王宝强-刘昊然-妻夫木聪-托尼·贾|   Unknown|               257934|          452356|              452356|\n",
      "|    171|复仇者联盟4：终局之战|动作-科幻-奇幻-冒险|        美国 |         181|   2019-04-24|        91| 来自泰坦星的 灭霸为了解决宇宙资源...|       乔·罗素|小罗伯特·唐尼-克里斯·埃文斯-马...|   Unknown|               223284|          425015|              425015|\n",
      "|    184|       长津湖之水门桥|     剧情-历史-战争|    中国大陆 |         149|   2022-02-01|        96|以抗美援朝战争第二次战役中的长津湖...|          徐克|        吴京-易烊千玺-朱亚文-李晨|   Unknown|               253385|          406745|              406745|\n",
      "+-------+---------------------+-------------------+-------------+------------+-------------+----------+-------------------------------------+--------------+---------------------------------+----------+---------------------+----------------+--------------------+\n",
      "\n"
     ]
    }
   ],
   "execution_count": 6
  },
  {
   "metadata": {
    "ExecuteTime": {
     "end_time": "2025-04-20T03:41:53.382714Z",
     "start_time": "2025-04-20T03:41:48.576851Z"
    }
   },
   "cell_type": "code",
   "source": [
    "df_clean = catMovieData.filter(\n",
    "    col(\"movie_all_ticket\").rlike(\"^\\\\d+$\"),\n",
    ").filter(\n",
    "    col(\"movie_firtweek_ticket\").rlike(\"^\\\\d+$\"),\n",
    ")\n",
    "\n",
    "df_numeric = df_clean.withColumn(\n",
    "    \"movie_all_ticket_num\",\n",
    "    col(\"movie_all_ticket\").cast(\"integer\")\n",
    ").withColumn(\n",
    "    \"movie_firtweek_ticket_num\",\n",
    "    col(\"movie_firtweek_ticket\").cast(\"integer\")\n",
    ")\n",
    "\n",
    "explode_df = df_numeric.withColumn('movie_tag',explode(split(col('movie_tag'),'-')))\n",
    "result3 = explode_df.groupby(col('movie_tag')).agg(\n",
    "    max('movie_firtweek_ticket_num').alias('max_movie_firtweek_ticket'),\n",
    "    max('movie_all_ticket_num').alias('max_movie_all_ticket'),)\n",
    "saveTable(result3,\"typeTopMovie\")\n",
    "\n",
    "# \"\"\"\n",
    "# 种类票房统计\n",
    "# \"\"\""
   ],
   "id": "6cb194ba888787a4",
   "outputs": [
    {
     "name": "stdout",
     "output_type": "stream",
     "text": [
      "Saving typeTopMovie\n"
     ]
    },
    {
     "name": "stderr",
     "output_type": "stream",
     "text": [
      "                                                                                \r"
     ]
    },
    {
     "name": "stdout",
     "output_type": "stream",
     "text": [
      "+---------+-------------------------+--------------------+\n",
      "|movie_tag|max_movie_firtweek_ticket|max_movie_all_ticket|\n",
      "+---------+-------------------------+--------------------+\n",
      "|     音乐|                     8310|               45936|\n",
      "|     剧情|                   313135|             1427246|\n",
      "|     动画|                   313135|             1427246|\n",
      "|     神话|                    89616|              263649|\n",
      "|     动作|                   223284|              569454|\n",
      "|     爱情|                   181992|              339120|\n",
      "|     犯罪|                   136959|              384984|\n",
      "|     奇幻|                   223284|              425015|\n",
      "|     恐怖|                    19952|               31117|\n",
      "|     古装|                    42864|               62899|\n",
      "|     热血|                    38150|               66351|\n",
      "|     儿童|                     5536|               13897|\n",
      "| 舞台艺术|                       51|                 224|\n",
      "|     农村|                      157|               10973|\n",
      "|   合家欢|                    12097|               43512|\n",
      "|     革命|                        1|                 164|\n",
      "|     公路|                        5|                   6|\n",
      "|     戏曲|                      292|                2384|\n",
      "|     竞技|                       23|                 244|\n",
      "|     西部|                      382|                1788|\n",
      "+---------+-------------------------+--------------------+\n",
      "only showing top 20 rows\n",
      "\n"
     ]
    }
   ],
   "execution_count": 7
  },
  {
   "metadata": {
    "ExecuteTime": {
     "end_time": "2025-04-20T03:42:29.386788Z",
     "start_time": "2025-04-20T03:42:26.382710Z"
    }
   },
   "cell_type": "code",
   "source": [
    "\"\"\"\n",
    "国家统计\n",
    "\"\"\"\n",
    "explode_df = catMovieData.withColumn('country', explode(split(col('movie_country'), ',')))\n",
    "result4 = explode_df.groupby('country').agg(\n",
    "    count('country').alias('country_count'),\n",
    ")\n",
    "saveTable(result4,\"countryCount\")\n"
   ],
   "id": "fe4ec9f372f86cae",
   "outputs": [
    {
     "name": "stdout",
     "output_type": "stream",
     "text": [
      "Saving countryCount\n",
      "+---------+-------------+\n",
      "|  country|country_count|\n",
      "+---------+-------------+\n",
      "|    印度 |           12|\n",
      "|  新西兰 |            8|\n",
      "| 中国香港|           25|\n",
      "|  意大利 |            9|\n",
      "| 中国台湾|            8|\n",
      "|     英国|           39|\n",
      "|   西班牙|            3|\n",
      "|    法国 |           34|\n",
      "|中国台湾 |           44|\n",
      "|    泰国 |            4|\n",
      "|     法国|           23|\n",
      "|  加拿大 |           22|\n",
      "|   新西兰|            2|\n",
      "|  奥地利 |            2|\n",
      "|  比利时 |            5|\n",
      "|   加拿大|            7|\n",
      "|  西班牙 |           10|\n",
      "|   爱尔兰|            3|\n",
      "| 澳大利亚|            4|\n",
      "|   意大利|            5|\n",
      "+---------+-------------+\n",
      "only showing top 20 rows\n",
      "\n"
     ]
    }
   ],
   "execution_count": 8
  },
  {
   "metadata": {
    "ExecuteTime": {
     "end_time": "2025-04-20T03:42:41.966420Z",
     "start_time": "2025-04-20T03:42:38.672102Z"
    }
   },
   "cell_type": "code",
   "source": [
    "\"\"\"\"\"\"\"\"\"\"\"\"\"\"\"\"\"\"\"\"\"\"\"\"\"\"\"\"\"\"\"\"\"\"\"\"\"\"\"\"\"\"\"\"\"\"\"\"\"\"\"\"\"\"\"\"\"\"\"\"\"\"\"\"\"\"\n",
    "\"\"\"\n",
    "评分分布\n",
    "\"\"\"\n",
    "cat_rate_df = catMovieData.withColumn(\n",
    "    'rateCategory',\n",
    "    when((col('movie_rate') >= 10) & (col('movie_rate') < 20), '0.5星')\n",
    "    .when((col('movie_rate') >= 20) & (col('movie_rate') < 30), '1星')\n",
    "    .when((col('movie_rate') >= 30) & (col('movie_rate') < 40), '1.5星')\n",
    "    .when((col('movie_rate') >= 40) & (col('movie_rate') < 50), '2星')\n",
    "    .when((col('movie_rate') >= 50) & (col('movie_rate') < 60), '2.5星')\n",
    "    .when((col('movie_rate') >= 60) & (col('movie_rate') < 70), '3星')\n",
    "    .when((col('movie_rate') >= 70) & (col('movie_rate') < 80), '3.5星')\n",
    "    .when((col('movie_rate') >= 80) & (col('movie_rate') < 90), '4星')\n",
    "    .when((col('movie_rate') >= 90) & (col('movie_rate') <= 100), '4.5星')\n",
    "    .otherwise('未知')  # 处理不在上述范围的情况\n",
    ")\n",
    "cat_rate_df = cat_rate_df.filter(col('movie_rate') != 0)\n",
    "result5 = cat_rate_df.groupby(col('rateCategory')).count()\n",
    "\n",
    "saveTable(result5,\"rateCount\")\n"
   ],
   "id": "d3387cd07540b993",
   "outputs": [
    {
     "name": "stdout",
     "output_type": "stream",
     "text": [
      "Saving rateCount\n",
      "+------------+-----+\n",
      "|rateCategory|count|\n",
      "+------------+-----+\n",
      "|         4星|  655|\n",
      "|         2星|    9|\n",
      "|       1.5星|    6|\n",
      "|       4.5星|  379|\n",
      "|       3.5星|  264|\n",
      "|       2.5星|   36|\n",
      "|         3星|   89|\n",
      "|         1星|    1|\n",
      "+------------+-----+\n",
      "\n"
     ]
    }
   ],
   "execution_count": 9
  },
  {
   "metadata": {},
   "cell_type": "markdown",
   "source": "# 类型分析",
   "id": "a60591ab02587539"
  },
  {
   "metadata": {
    "ExecuteTime": {
     "end_time": "2025-04-20T03:43:15.797666Z",
     "start_time": "2025-04-20T03:43:09.967222Z"
    }
   },
   "cell_type": "code",
   "source": [
    "\"\"\"\n",
    "种类票房Top10\n",
    "\"\"\"\n",
    "# 如果列中有非数字（如 \"Unknown\" 或空值），可以先过滤：\n",
    "df_clean = catMovieData.filter(\n",
    "    col(\"movie_all_ticket\").rlike(\"^\\\\d+$\"),\n",
    ")\n",
    "df_numeric = df_clean.withColumn(\n",
    "    \"movie_all_ticket_num\",\n",
    "    col(\"movie_all_ticket\").cast(\"integer\")\n",
    ")\n",
    "explode_df = df_numeric.withColumn('type',explode(split(col('movie_tag'),'-')))\n",
    "group_df = explode_df.groupby('type','movie_name').agg({'movie_all_ticket':'sum'}).withColumnRenamed('sum(movie_all_ticket)','movie_all_ticket')\n",
    "\n",
    "window = Window.partitionBy('type').orderBy(col('movie_all_ticket').desc())\n",
    "rank = group_df.withColumn('rank',row_number().over(window))\n",
    "result6 = rank.filter(col('rank') <= 10).drop(col('rank'))\n",
    "saveTable(result6,\"perTypeTickets\")"
   ],
   "id": "87bea63c9187cee9",
   "outputs": [
    {
     "name": "stdout",
     "output_type": "stream",
     "text": [
      "Saving perTypeTickets\n"
     ]
    },
    {
     "name": "stderr",
     "output_type": "stream",
     "text": [
      "                                                                                \r"
     ]
    },
    {
     "name": "stdout",
     "output_type": "stream",
     "text": [
      "+------+--------------------------+----------------+\n",
      "|  type|                movie_name|movie_all_ticket|\n",
      "+------+--------------------------+----------------+\n",
      "|主旋律|                青年邓颖超|           164.0|\n",
      "|  亲情|                  世间有她|          5631.0|\n",
      "|  亲情|              美人鱼的夏天|           113.0|\n",
      "|  传记|                  中国机长|        291317.0|\n",
      "|  传记|              摔跤吧！爸爸|        129932.0|\n",
      "|  传记|             叶问4：完结篇|        118170.0|\n",
      "|  传记|                    绿皮书|         47872.0|\n",
      "|  传记|                血战钢锯岭|         42582.0|\n",
      "|  传记|                      归来|         29136.0|\n",
      "|  传记|                    梅艳芳|         11353.0|\n",
      "|  传记|                  马戏之王|         10125.0|\n",
      "|  传记|            波西米亚狂想曲|          9907.0|\n",
      "|  传记|                      叶问|          8491.0|\n",
      "|  儿童|喜羊羊与灰太狼之兔年顶呱呱|         13897.0|\n",
      "|  儿童|  喜羊羊与灰太狼之虎虎生威|         12432.0|\n",
      "|  儿童|     猪猪侠大电影·恐龙日记|          7932.0|\n",
      "|  儿童|    汪汪队立大功之超能救援|          7911.0|\n",
      "|  儿童|                踢出个未来|           148.0|\n",
      "|  儿童|                  校园神探|           102.0|\n",
      "|  儿童|                    音乐课|            39.0|\n",
      "+------+--------------------------+----------------+\n",
      "only showing top 20 rows\n",
      "\n"
     ]
    }
   ],
   "execution_count": 10
  },
  {
   "metadata": {
    "ExecuteTime": {
     "end_time": "2025-04-20T03:44:03.141186Z",
     "start_time": "2025-04-20T03:43:59.606773Z"
    }
   },
   "cell_type": "code",
   "source": [
    "\"\"\"\n",
    "种类评分\n",
    "\"\"\"\n",
    "filter_df = explode_df.filter(col('movie_rate') != 0)\n",
    "filter_df.groupby('type').agg(mean('movie_rate').alias('mean_typeRate'))\n",
    "result7 = filter_df.groupby('type').agg(mean('movie_rate').alias('mean_typeRate'))\n",
    "saveTable(result7,\"meanTypeRate\")\n"
   ],
   "id": "80ec7ce2351e385d",
   "outputs": [
    {
     "name": "stdout",
     "output_type": "stream",
     "text": [
      "Saving meanTypeRate\n"
     ]
    },
    {
     "name": "stderr",
     "output_type": "stream",
     "text": [
      "                                                                                \r"
     ]
    },
    {
     "name": "stdout",
     "output_type": "stream",
     "text": [
      "+------+-----------------+\n",
      "|  type|    mean_typeRate|\n",
      "+------+-----------------+\n",
      "|  音乐|90.28571428571429|\n",
      "|  剧情|86.18673218673219|\n",
      "|  动画|87.90222222222222|\n",
      "|  神话|             85.0|\n",
      "|  动作|84.72413793103448|\n",
      "|  爱情| 83.3313953488372|\n",
      "|  犯罪|84.99115044247787|\n",
      "|  奇幻|84.72727272727273|\n",
      "|  恐怖|69.58333333333333|\n",
      "|  古装|77.07692307692308|\n",
      "|  热血|             91.5|\n",
      "|  儿童|             79.0|\n",
      "|  西部|             86.5|\n",
      "|合家欢|             80.0|\n",
      "|  农村|             83.5|\n",
      "|  戏曲|             91.0|\n",
      "|纪录片|             92.0|\n",
      "|  青春|          85.4375|\n",
      "|  家庭|87.61764705882354|\n",
      "|  冒险|86.43686006825939|\n",
      "+------+-----------------+\n",
      "only showing top 20 rows\n",
      "\n"
     ]
    }
   ],
   "execution_count": 11
  },
  {
   "metadata": {
    "ExecuteTime": {
     "end_time": "2025-04-20T03:44:15.052757Z",
     "start_time": "2025-04-20T03:44:12.689226Z"
    }
   },
   "cell_type": "code",
   "source": [
    "\"\"\"\n",
    "种类时长\n",
    "\"\"\"\n",
    "result8 = explode_df.groupby('type').agg(mean('movie_length').alias('typeAvgLen'))\n",
    "saveTable(result8,\"avgTypeLen\")\n"
   ],
   "id": "41649fad49a3bab2",
   "outputs": [
    {
     "name": "stdout",
     "output_type": "stream",
     "text": [
      "Saving avgTypeLen\n",
      "+--------+------------------+\n",
      "|    type|        typeAvgLen|\n",
      "+--------+------------------+\n",
      "|    音乐| 114.9047619047619|\n",
      "|    剧情|116.50401606425703|\n",
      "|    动画|            98.644|\n",
      "|    神话|             146.0|\n",
      "|    动作|  121.797783933518|\n",
      "|    爱情|112.86153846153846|\n",
      "|    犯罪|113.70588235294117|\n",
      "|    奇幻|114.33707865168539|\n",
      "|    恐怖| 94.94736842105263|\n",
      "|    古装|          111.5625|\n",
      "|    热血|             110.0|\n",
      "|    儿童| 93.57142857142857|\n",
      "|    西部|             148.5|\n",
      "|舞台艺术|             105.5|\n",
      "|    农村|115.66666666666667|\n",
      "|  合家欢|              84.8|\n",
      "|    革命|             101.0|\n",
      "|    公路|              97.0|\n",
      "|    戏曲|             107.4|\n",
      "|    竞技|             210.0|\n",
      "+--------+------------------+\n",
      "only showing top 20 rows\n",
      "\n"
     ]
    }
   ],
   "execution_count": 12
  },
  {
   "metadata": {
    "ExecuteTime": {
     "end_time": "2025-04-20T04:02:48.340043Z",
     "start_time": "2025-04-20T04:02:45.510956Z"
    }
   },
   "cell_type": "code",
   "source": [
    "filter_df = explode_df.filter(col('movie_rate') != 0)\n",
    "result9 = filter_df.groupby('type','movie_rate').agg(count('movie_rate').alias('count_typeRate'))\n",
    "saveTable(result9,'typeCountRate')"
   ],
   "id": "2871819ba47809db",
   "outputs": [
    {
     "name": "stdout",
     "output_type": "stream",
     "text": [
      "Saving typeCountRate\n",
      "+------+----------+--------------+\n",
      "|  type|movie_rate|count_typeRate|\n",
      "+------+----------+--------------+\n",
      "|  音乐|        95|             2|\n",
      "|  家庭|        92|            10|\n",
      "|  剧情|        92|            27|\n",
      "|  动画|        91|            18|\n",
      "|  冒险|        91|            29|\n",
      "|  战争|        79|             1|\n",
      "|  动作|        79|            10|\n",
      "|  悬疑|        89|             7|\n",
      "|  剧情|        89|            26|\n",
      "|  喜剧|        94|             6|\n",
      "|  冒险|        89|            27|\n",
      "|  喜剧|        95|             8|\n",
      "|  动作|        95|             5|\n",
      "|  动作|        87|            14|\n",
      "|  惊悚|        87|             4|\n",
      "|  动画|        92|            20|\n",
      "|  喜剧|        91|            22|\n",
      "|纪录片|        94|             1|\n",
      "|  战争|        97|             2|\n",
      "|  奇幻|        87|            11|\n",
      "+------+----------+--------------+\n",
      "only showing top 20 rows\n",
      "\n"
     ]
    }
   ],
   "execution_count": 32
  },
  {
   "metadata": {},
   "cell_type": "markdown",
   "source": "# 国家分析",
   "id": "d6b57fdeecdea208"
  },
  {
   "metadata": {
    "ExecuteTime": {
     "end_time": "2025-04-20T05:30:31.781286Z",
     "start_time": "2025-04-20T05:30:30.030684Z"
    }
   },
   "cell_type": "code",
   "source": [
    "country_explode_df = catMovieData.withColumn(\n",
    "    'country', \n",
    "    explode(split(trim(col('movie_country')), ','))\n",
    ")\n",
    "result11 = country_explode_df.groupby('country').agg(mean('movie_rate').alias('countryMeanRate'))\n",
    "saveTable(result11,\"countryMeanRate\")"
   ],
   "id": "c721e5faf3cd9ee0",
   "outputs": [
    {
     "name": "stdout",
     "output_type": "stream",
     "text": [
      "Saving countryMeanRate\n",
      "+--------+-----------------+\n",
      "| country|  countryMeanRate|\n",
      "+--------+-----------------+\n",
      "|中国香港|81.26515151515152|\n",
      "|    印度|             82.0|\n",
      "|    英国|81.84042553191489|\n",
      "|  新西兰|           87.625|\n",
      "|  意大利|86.16666666666667|\n",
      "|中国台湾| 80.3076923076923|\n",
      "|  西班牙|             80.0|\n",
      "|    法国| 82.6046511627907|\n",
      "|    韩国|72.92592592592592|\n",
      "|  加拿大|             83.0|\n",
      "|  比利时|             76.0|\n",
      "|澳大利亚|79.13333333333334|\n",
      "|马来西亚|             83.5|\n",
      "|  爱尔兰|             83.0|\n",
      "|    巴西|             77.0|\n",
      "|  卢森堡|             74.0|\n",
      "|    丹麦|             68.0|\n",
      "|罗马尼亚|             45.0|\n",
      "|    捷克|85.33333333333333|\n",
      "|  俄罗斯|81.66666666666667|\n",
      "+--------+-----------------+\n",
      "only showing top 20 rows\n",
      "\n"
     ]
    }
   ],
   "execution_count": 87
  },
  {
   "metadata": {
    "ExecuteTime": {
     "end_time": "2025-04-20T05:30:39.218030Z",
     "start_time": "2025-04-20T05:30:37.935411Z"
    }
   },
   "cell_type": "code",
   "source": [
    "result12 = country_explode_df.groupby('country').agg(mean('movie_length').alias('countryMeanLength'))\n",
    "saveTable(result12,\"countryMeanLength\")"
   ],
   "id": "a4380883a7acd1cd",
   "outputs": [
    {
     "name": "stdout",
     "output_type": "stream",
     "text": [
      "Saving countryMeanLength\n",
      "+--------+------------------+\n",
      "| country| countryMeanLength|\n",
      "+--------+------------------+\n",
      "|中国香港|111.12337662337663|\n",
      "|    印度|122.64285714285714|\n",
      "|    英国|118.80952380952381|\n",
      "|  新西兰|             150.8|\n",
      "|  意大利|             143.0|\n",
      "|中国台湾|113.07692307692308|\n",
      "|  西班牙|113.76923076923077|\n",
      "|    法国| 118.0701754385965|\n",
      "|    韩国|119.97674418604652|\n",
      "|  加拿大|120.48275862068965|\n",
      "|  比利时|             105.0|\n",
      "|澳大利亚|           110.625|\n",
      "|马来西亚|            109.25|\n",
      "|  爱尔兰|             107.5|\n",
      "|    巴西|             123.0|\n",
      "|  卢森堡|             114.0|\n",
      "|    丹麦|             103.0|\n",
      "|罗马尼亚|              98.0|\n",
      "|    捷克|             132.0|\n",
      "|  俄罗斯|116.66666666666667|\n",
      "+--------+------------------+\n",
      "only showing top 20 rows\n",
      "\n"
     ]
    }
   ],
   "execution_count": 88
  },
  {
   "metadata": {
    "ExecuteTime": {
     "end_time": "2025-04-20T11:49:56.234942Z",
     "start_time": "2025-04-20T11:49:15.368023Z"
    }
   },
   "cell_type": "code",
   "source": [
    "df_clean = catMovieData.filter(\n",
    "    col(\"movie_all_ticket\").rlike(\"^\\\\d+$\"),\n",
    ")\n",
    "df_numeric = df_clean.withColumn(\n",
    "    \"movie_all_ticket_num\",\n",
    "    col(\"movie_all_ticket\").cast(\"integer\")\n",
    ")\n",
    "country_explode_df = df_numeric.withColumn(\n",
    "    'country', \n",
    "    explode(split(trim(col('movie_country')), ','))\n",
    ")\n",
    "result13 = country_explode_df.groupby('country').agg(sum('movie_all_ticket').alias('countryTotalTicket'))\n",
    "saveTable(result13,\"countryTotalTicket\")"
   ],
   "id": "848ddaa53789b32e",
   "outputs": [
    {
     "name": "stdout",
     "output_type": "stream",
     "text": [
      "Saving countryTotalTicket\n"
     ]
    },
    {
     "name": "stderr",
     "output_type": "stream",
     "text": [
      "25/04/20 19:49:54 WARN SessionState: METASTORE_FILTER_HOOK will be ignored, since hive.security.authorization.manager is set to instance of HiveAuthorizerFactory.\n"
     ]
    },
    {
     "name": "stdout",
     "output_type": "stream",
     "text": [
      "+--------+------------------+\n",
      "| country|countryTotalTicket|\n",
      "+--------+------------------+\n",
      "|中国香港|         2508710.0|\n",
      "|    印度|          439969.0|\n",
      "|    英国|          802591.0|\n",
      "|  新西兰|          186561.0|\n",
      "|  意大利|           23435.0|\n",
      "|中国台湾|          517874.0|\n",
      "|  西班牙|           28788.0|\n",
      "|    法国|          141701.0|\n",
      "|  加拿大|          411151.0|\n",
      "|马来西亚|            4007.0|\n",
      "|澳大利亚|          259366.0|\n",
      "|    韩国|             100.0|\n",
      "|  爱尔兰|            1721.0|\n",
      "|    捷克|           76482.0|\n",
      "|  俄罗斯|           73216.0|\n",
      "|    越南|              64.0|\n",
      "|中国大陆|       3.0991851E7|\n",
      "|    日本|         1089692.0|\n",
      "|    美国|       1.2896414E7|\n",
      "|    德国|          213170.0|\n",
      "+--------+------------------+\n",
      "only showing top 20 rows\n",
      "\n"
     ]
    }
   ],
   "execution_count": 5
  },
  {
   "metadata": {
    "ExecuteTime": {
     "end_time": "2025-04-20T11:52:02.775207Z",
     "start_time": "2025-04-20T11:51:58.100882Z"
    }
   },
   "cell_type": "code",
   "source": [
    "\"\"\"\n",
    "国家票房Top10\n",
    "\"\"\"\n",
    "\n",
    "group_df = country_explode_df.groupby('country','movie_name').agg({'movie_all_ticket':'sum'}).withColumnRenamed('sum(movie_all_ticket)','movie_all_ticket')\n",
    "\n",
    "window = Window.partitionBy('country').orderBy(col('movie_all_ticket').desc())\n",
    "rank = group_df.withColumn('rank',row_number().over(window))\n",
    "result16=rank.filter(col('rank') <= 10).drop(col('rank'))\n",
    "saveTable(result16,'countryTopMovie')"
   ],
   "id": "f229a27e3afdd8bf",
   "outputs": [
    {
     "name": "stdout",
     "output_type": "stream",
     "text": [
      "Saving countryTopMovie\n",
      "+--------+-------------------------------------+----------------+\n",
      "| country|                           movie_name|movie_all_ticket|\n",
      "+--------+-------------------------------------+----------------+\n",
      "| Unknown|北京希杰星星国际影城有限公司将台分...|            14.0|\n",
      "| Unknown|苏州文化艺术中心管理有限公司意大利...|            13.0|\n",
      "| Unknown|    武汉百丽宫影院有限公司2023芳华...|             9.0|\n",
      "| Unknown|  英皇电影城（北京）有限公司英皇20...|             8.0|\n",
      "| Unknown| 广州百丽宫影院有限公司2023德国电影展|             5.0|\n",
      "|中国台湾|                   比悲伤更悲伤的故事|         95843.0|\n",
      "|中国台湾|                           周处除三害|         66573.0|\n",
      "|中国台湾|                     少年派的奇幻漂流|         57288.0|\n",
      "|中国台湾|                    小时代3：刺金时代|         52098.0|\n",
      "|中国台湾|                               小时代|         48432.0|\n",
      "|中国台湾|                               想见你|         40362.0|\n",
      "|中国台湾|                         我的少女时代|         35893.0|\n",
      "|中国台湾|                    小时代2：青木时代|         29619.0|\n",
      "|中国台湾|                         当男人恋爱时|         26421.0|\n",
      "|中国台湾|                             天台爱情|         11984.0|\n",
      "|中国大陆|                       哪吒之魔童闹海|       1427246.0|\n",
      "|中国大陆|                               长津湖|        577534.0|\n",
      "|中国大陆|                                战狼2|        569454.0|\n",
      "|中国大陆|                         你好，李焕英|        541320.0|\n",
      "|中国大陆|                       哪吒之魔童降世|        503570.0|\n",
      "+--------+-------------------------------------+----------------+\n",
      "only showing top 20 rows\n",
      "\n"
     ]
    }
   ],
   "execution_count": 10
  },
  {
   "metadata": {},
   "cell_type": "markdown",
   "source": "# 时间分析",
   "id": "9170a391b81c8c35"
  },
  {
   "metadata": {
    "ExecuteTime": {
     "end_time": "2025-04-20T05:36:51.835318Z",
     "start_time": "2025-04-20T05:36:50.891441Z"
    }
   },
   "cell_type": "code",
   "source": [
    "##年度评分##\n",
    "year_df = catMovieData.filter(col('movie_release').isNotNull())\n",
    "year_df = catMovieData.withColumn('year',year(to_date('movie_release',\"yyyy-MM-dd\")))\n",
    "result10 = year_df.groupby('year').agg(mean('movie_rate').alias('yearMeanRate'))\n",
    "result10 = result10.filter(col('yearMeanRate').isNotNull())\n",
    "saveTable(result10,\"yearMeanRate\")"
   ],
   "id": "f73f8a1e4fb43199",
   "outputs": [
    {
     "name": "stdout",
     "output_type": "stream",
     "text": [
      "Saving yearMeanRate\n",
      "+----+-----------------+\n",
      "|year|     yearMeanRate|\n",
      "+----+-----------------+\n",
      "|2010|77.79411764705883|\n",
      "|2009|82.65384615384616|\n",
      "|2004|81.36842105263158|\n",
      "|2016|83.17948717948718|\n",
      "|2003|79.52380952380952|\n",
      "|2020|83.56603773584905|\n",
      "|1998|             84.0|\n",
      "|2017|83.64044943820225|\n",
      "|1999|75.92857142857143|\n",
      "|1974|74.66666666666667|\n",
      "|1989|81.33333333333333|\n",
      "|1993|85.83333333333333|\n",
      "|1992|79.85714285714286|\n",
      "|1973|             84.0|\n",
      "|1977|             89.0|\n",
      "|1996|             77.0|\n",
      "|1985|             74.5|\n",
      "|1980|             85.0|\n",
      "|1981|             81.5|\n",
      "|NULL|72.76923076923077|\n",
      "+----+-----------------+\n",
      "only showing top 20 rows\n",
      "\n"
     ]
    }
   ],
   "execution_count": 92
  },
  {
   "metadata": {
    "ExecuteTime": {
     "end_time": "2025-04-20T05:39:28.833734Z",
     "start_time": "2025-04-20T05:39:27.873661Z"
    }
   },
   "cell_type": "code",
   "source": [
    "result14 = year_df.groupby('year').agg(count('movie_rate').alias('yearMovie'))\n",
    "result14 = result14.filter(col('yearMovie').isNotNull())\n",
    "saveTable(result14,\"yearMovie\")"
   ],
   "id": "2b35bf7dba4676fe",
   "outputs": [
    {
     "name": "stdout",
     "output_type": "stream",
     "text": [
      "Saving yearMovie\n",
      "+----+---------+\n",
      "|year|yearMovie|\n",
      "+----+---------+\n",
      "|2010|       34|\n",
      "|2009|       26|\n",
      "|2004|       19|\n",
      "|2016|       78|\n",
      "|2003|       21|\n",
      "|2020|       53|\n",
      "|1998|        6|\n",
      "|2017|       89|\n",
      "|1999|       14|\n",
      "|1974|        3|\n",
      "|1989|        6|\n",
      "|1993|        6|\n",
      "|1976|        0|\n",
      "|1992|        7|\n",
      "|1973|        1|\n",
      "|1977|        1|\n",
      "|1996|        5|\n",
      "|1985|        2|\n",
      "|1980|        2|\n",
      "|1981|        2|\n",
      "+----+---------+\n",
      "only showing top 20 rows\n",
      "\n"
     ]
    }
   ],
   "execution_count": 94
  },
  {
   "metadata": {
    "ExecuteTime": {
     "end_time": "2025-04-20T12:20:52.832650Z",
     "start_time": "2025-04-20T12:20:36.661084Z"
    }
   },
   "cell_type": "code",
   "source": [
    "df_clean = catMovieData.filter(\n",
    "    col(\"movie_all_ticket\").rlike(\"^\\\\d+$\"),\n",
    ")\n",
    "df_numeric = df_clean.withColumn(\n",
    "    \"movie_all_ticket_num\",\n",
    "    col(\"movie_all_ticket\").cast(\"integer\")\n",
    ")\n",
    "year_df = df_numeric.filter(col('movie_release').isNotNull())\n",
    "year_df = df_numeric.withColumn('year',year(to_date('movie_release',\"yyyy-MM-dd\")))\n",
    "result15 = year_df.groupby('year').agg(sum('movie_all_ticket').alias('yearTotalTicket'))\n",
    "result15 = result15.filter(col('yearTotalTicket').isNotNull())\n",
    "saveTable(result15,\"yearTotalTicket\")"
   ],
   "id": "1a3137fbf342c233",
   "outputs": [
    {
     "name": "stdout",
     "output_type": "stream",
     "text": [
      "Saving yearTotalTicket\n"
     ]
    },
    {
     "name": "stderr",
     "output_type": "stream",
     "text": [
      "25/04/20 20:20:50 WARN SessionState: METASTORE_FILTER_HOOK will be ignored, since hive.security.authorization.manager is set to instance of HiveAuthorizerFactory.\n"
     ]
    },
    {
     "name": "stdout",
     "output_type": "stream",
     "text": [
      "+----+---------------+\n",
      "|year|yearTotalTicket|\n",
      "+----+---------------+\n",
      "|2010|       351241.0|\n",
      "|2009|       250585.0|\n",
      "|2004|        83613.0|\n",
      "|2016|      3224473.0|\n",
      "|2003|        31440.0|\n",
      "|2020|      1937872.0|\n",
      "|2017|      4864335.0|\n",
      "|1998|       144761.0|\n",
      "|1999|        16221.0|\n",
      "|1993|            6.0|\n",
      "|1989|            4.0|\n",
      "|NULL|         4682.0|\n",
      "|2024|      4336418.0|\n",
      "|2025|      2381937.0|\n",
      "|2014|      1082537.0|\n",
      "|2021|      3985963.0|\n",
      "|2019|      5619814.0|\n",
      "|2002|        80561.0|\n",
      "|2022|      2801672.0|\n",
      "|2023|      5197581.0|\n",
      "+----+---------------+\n",
      "only showing top 20 rows\n",
      "\n"
     ]
    }
   ],
   "execution_count": 5
  },
  {
   "metadata": {
    "ExecuteTime": {
     "end_time": "2025-04-20T12:21:54.868110Z",
     "start_time": "2025-04-20T12:21:51.777603Z"
    }
   },
   "cell_type": "code",
   "source": [
    "group_df = year_df.groupby('year','movie_name').agg({'movie_all_ticket':'sum'}).withColumnRenamed('sum(movie_all_ticket)','movie_all_ticket')\n",
    "\n",
    "window = Window.partitionBy('year').orderBy(col('movie_all_ticket').desc())\n",
    "rank = group_df.withColumn('rank',row_number().over(window))\n",
    "result17 = rank.filter(col('rank') <= 10).drop(col('rank'))\n",
    "saveTable(result17,'yearTopMovie')"
   ],
   "id": "a277d2fff8090bfc",
   "outputs": [
    {
     "name": "stdout",
     "output_type": "stream",
     "text": [
      "Saving yearTopMovie\n",
      "+----+-------------------------------------+----------------+\n",
      "|year|                           movie_name|movie_all_ticket|\n",
      "+----+-------------------------------------+----------------+\n",
      "|NULL|                               碟中谍|          4510.0|\n",
      "|NULL|                             透明侠侣|            69.0|\n",
      "|NULL|                           她的小梨涡|            36.0|\n",
      "|NULL|北京希杰星星国际影城有限公司将台分...|            14.0|\n",
      "|NULL|苏州文化艺术中心管理有限公司意大利...|            13.0|\n",
      "|NULL|    武汉百丽宫影院有限公司2023芳华...|             9.0|\n",
      "|NULL|                         根本停不下来|             8.0|\n",
      "|NULL|                       风起前的蒲公英|             8.0|\n",
      "|NULL|  英皇电影城（北京）有限公司英皇20...|             8.0|\n",
      "|NULL| 广州百丽宫影院有限公司2023德国电影展|             5.0|\n",
      "|1988|                               红高粱|            89.0|\n",
      "|1989|                             开国大典|             4.0|\n",
      "|1993|                             霸王别姬|             5.0|\n",
      "|1993|                         唐伯虎点秋香|             1.0|\n",
      "|1994|                       背靠背，脸对脸|             2.0|\n",
      "|1995|                               红番区|          9500.0|\n",
      "|1995|                       阳光灿烂的日子|          5000.0|\n",
      "|1995|                           玩具总动员|          3180.0|\n",
      "|1995|                               狮子王|            15.0|\n",
      "|1998|                           泰坦尼克号|        136531.0|\n",
      "+----+-------------------------------------+----------------+\n",
      "only showing top 20 rows\n",
      "\n"
     ]
    }
   ],
   "execution_count": 8
  },
  {
   "metadata": {},
   "cell_type": "code",
   "outputs": [],
   "execution_count": null,
   "source": "",
   "id": "f9562950769bd448"
  }
 ],
 "metadata": {
  "kernelspec": {
   "display_name": "Python 3",
   "language": "python",
   "name": "python3"
  },
  "language_info": {
   "codemirror_mode": {
    "name": "ipython",
    "version": 2
   },
   "file_extension": ".py",
   "mimetype": "text/x-python",
   "name": "python",
   "nbconvert_exporter": "python",
   "pygments_lexer": "ipython2",
   "version": "2.7.6"
  }
 },
 "nbformat": 4,
 "nbformat_minor": 5
}
